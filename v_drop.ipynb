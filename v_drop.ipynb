{
 "cells": [
  {
   "cell_type": "code",
   "execution_count": 1,
   "metadata": {},
   "outputs": [
    {
     "name": "stderr",
     "output_type": "stream",
     "text": [
      "Using TensorFlow backend.\n"
     ]
    }
   ],
   "source": [
    "import numpy as np\n",
    "\n",
    "from keras.layers import Input, Dense, Activation\n",
    "from keras.models import Model\n",
    "from keras import backend as K\n",
    "from keras import metrics\n",
    "from keras.datasets import mnist\n",
    "\n",
    "import tensorflow as tf\n",
    "import keras\n",
    "\n",
    "from tensorflow.python.framework import random_seed\n",
    "from tensorflow.python.ops import gen_random_ops\n",
    "from tensorflow.python.ops import math_ops\n",
    "\n",
    "from keras.engine.topology import Layer"
   ]
  },
  {
   "cell_type": "code",
   "execution_count": 2,
   "metadata": {
    "collapsed": true
   },
   "outputs": [],
   "source": [
    "from v_drop_utils import *\n",
    "\n",
    "x_train, x_test, y_train, y_test, y_train_1hot, y_test_1hot = get_mnist()"
   ]
  },
  {
   "cell_type": "code",
   "execution_count": 3,
   "metadata": {
    "collapsed": true
   },
   "outputs": [],
   "source": [
    "from v_drop import *\n",
    "batch_size = 32"
   ]
  },
  {
   "cell_type": "code",
   "execution_count": 35,
   "metadata": {},
   "outputs": [],
   "source": [
    "my_model = define_networks((batch_size,784), 3, 64)"
   ]
  },
  {
   "cell_type": "code",
   "execution_count": 36,
   "metadata": {},
   "outputs": [
    {
     "name": "stdout",
     "output_type": "stream",
     "text": [
      "_________________________________________________________________\n",
      "Layer (type)                 Output Shape              Param #   \n",
      "=================================================================\n",
      "x_input (InputLayer)         (32, 784)                 0         \n",
      "_________________________________________________________________\n",
      "h0 (VariationalDropoutLayer) (32, 64)                  100352    \n",
      "_________________________________________________________________\n",
      "a0 (Activation)              (32, 64)                  0         \n",
      "_________________________________________________________________\n",
      "h1 (VariationalDropoutLayer) (32, 64)                  8192      \n",
      "_________________________________________________________________\n",
      "a1 (Activation)              (32, 64)                  0         \n",
      "_________________________________________________________________\n",
      "h2 (VariationalDropoutLayer) (32, 64)                  8192      \n",
      "_________________________________________________________________\n",
      "a2 (Activation)              (32, 64)                  0         \n",
      "_________________________________________________________________\n",
      "o (Dense)                    (32, 10)                  650       \n",
      "=================================================================\n",
      "Total params: 117,386\n",
      "Trainable params: 117,386\n",
      "Non-trainable params: 0\n",
      "_________________________________________________________________\n"
     ]
    },
    {
     "data": {
      "text/plain": [
       "array([ 0.0847579 ,  0.15295692,  0.08717388,  0.14159749,  0.06921946,\n",
       "        0.09279388,  0.14261246,  0.08807988,  0.05450133,  0.0863068 ], dtype=float32)"
      ]
     },
     "execution_count": 36,
     "metadata": {},
     "output_type": "execute_result"
    }
   ],
   "source": [
    "my_model.summary()\n",
    "\n",
    "\n",
    "preds = my_model.predict(x_test[:batch_size], batch_size=batch_size)\n",
    "preds[0]"
   ]
  },
  {
   "cell_type": "code",
   "execution_count": 41,
   "metadata": {},
   "outputs": [
    {
     "name": "stdout",
     "output_type": "stream",
     "text": [
      "Train on 60000 samples, validate on 9984 samples\n",
      "Epoch 1/10\n",
      "60000/60000 [==============================] - 11s - loss: 2.6180 - categorical_accuracy: 0.9866 - val_loss: 2.2724 - val_categorical_accuracy: 0.9716\n",
      "Epoch 2/10\n",
      "60000/60000 [==============================] - 8s - loss: 1.7676 - categorical_accuracy: 0.9843 - val_loss: 1.3890 - val_categorical_accuracy: 0.9756\n",
      "Epoch 3/10\n",
      "60000/60000 [==============================] - 8s - loss: 0.9408 - categorical_accuracy: 0.9814 - val_loss: 0.6046 - val_categorical_accuracy: 0.9747\n",
      "Epoch 4/10\n",
      "60000/60000 [==============================] - 8s - loss: 0.2909 - categorical_accuracy: 0.9751 - val_loss: 0.0472 - val_categorical_accuracy: 0.9738\n",
      "Epoch 5/10\n",
      "60000/60000 [==============================] - 8s - loss: -0.1303 - categorical_accuracy: 0.9698 - val_loss: -0.3027 - val_categorical_accuracy: 0.9752\n",
      "Epoch 6/10\n",
      "60000/60000 [==============================] - 9s - loss: -0.3563 - categorical_accuracy: 0.9669 - val_loss: -0.4272 - val_categorical_accuracy: 0.9754\n",
      "Epoch 7/10\n",
      "60000/60000 [==============================] - 8s - loss: -0.4183 - categorical_accuracy: 0.9639 - val_loss: -0.4677 - val_categorical_accuracy: 0.9744\n",
      "Epoch 8/10\n",
      "60000/60000 [==============================] - 8s - loss: -0.4614 - categorical_accuracy: 0.9652 - val_loss: -0.4991 - val_categorical_accuracy: 0.9739\n",
      "Epoch 9/10\n",
      "60000/60000 [==============================] - 8s - loss: -0.4844 - categorical_accuracy: 0.9644 - val_loss: -0.5266 - val_categorical_accuracy: 0.9744\n",
      "Epoch 10/10\n",
      "60000/60000 [==============================] - 8s - loss: -0.5028 - categorical_accuracy: 0.9648 - val_loss: -0.5359 - val_categorical_accuracy: 0.9737\n"
     ]
    },
    {
     "data": {
      "text/plain": [
       "<keras.callbacks.History at 0x7f2e86108940>"
      ]
     },
     "execution_count": 41,
     "metadata": {},
     "output_type": "execute_result"
    }
   ],
   "source": [
    "cut_test = int(x_test.shape[0]/batch_size) * batch_size\n",
    "x_test = x_test[:cut_test]\n",
    "y_test = y_test[:cut_test]\n",
    "y_test_1hot = y_test_1hot[:cut_test]\n",
    "my_model.fit(x_train, y_train_1hot, batch_size=batch_size,\n",
    "             epochs=10, validation_data = (x_test,y_test_1hot))\n",
    "\n"
   ]
  },
  {
   "cell_type": "code",
   "execution_count": 38,
   "metadata": {
    "collapsed": true
   },
   "outputs": [],
   "source": [
    "import matplotlib.pyplot as plt\n",
    "%matplotlib inline"
   ]
  },
  {
   "cell_type": "code",
   "execution_count": 39,
   "metadata": {},
   "outputs": [
    {
     "data": {
      "text/plain": [
       "(784,)"
      ]
     },
     "execution_count": 39,
     "metadata": {},
     "output_type": "execute_result"
    }
   ],
   "source": [
    "my_model.get_weights()[1][:,0].shape"
   ]
  },
  {
   "cell_type": "code",
   "execution_count": 42,
   "metadata": {},
   "outputs": [
    {
     "data": {
      "text/plain": [
       "<matplotlib.colorbar.Colorbar at 0x7f2e84aac4a8>"
      ]
     },
     "execution_count": 42,
     "metadata": {},
     "output_type": "execute_result"
    },
    {
     "data": {
      "image/png": "[encoded data removed]",
      "text/plain": [
       "<matplotlib.figure.Figure at 0x7f2e856b65f8>"
      ]
     },
     "metadata": {},
     "output_type": "display_data"
    }
   ],
   "source": [
    "\n",
    "arr = np.zeros((3*28, 3*28))\n",
    "for i in range(3):\n",
    "    for j in range(3):\n",
    "        arr[i*28 : (i+1)*28, j*28 : (j+1)*28,]= np.reshape(my_model.get_weights()[1][:,i*3+j],(28,28))\n",
    "        \n",
    "plt.figure(figsize=(12,12))\n",
    "plt.imshow(arr)\n",
    "plt.colorbar()"
   ]
  },
  {
   "cell_type": "code",
   "execution_count": null,
   "metadata": {},
   "outputs": [],
   "source": [
    "\n",
    "arr = np.zeros((3*8, 3*8))\n",
    "for i in range(3):\n",
    "    for j in range(3):\n",
    "        arr[i*8 : (i+1)*8, j*8 : (j+1)*8,]= np.reshape(h4.get_weights()[1][:,i+j*3],(8,8))\n",
    "        \n",
    "plt.figure(figsize=(12,12))\n",
    "plt.imshow(arr)"
   ]
  },
  {
   "cell_type": "code",
   "execution_count": null,
   "metadata": {
    "collapsed": true
   },
   "outputs": [],
   "source": []
  }
 ],
 "metadata": {
  "kernelspec": {
   "display_name": "Python 3",
   "language": "python",
   "name": "python3"
  },
  "language_info": {
   "codemirror_mode": {
    "name": "ipython",
    "version": 3
   },
   "file_extension": ".py",
   "mimetype": "text/x-python",
   "name": "python",
   "nbconvert_exporter": "python",
   "pygments_lexer": "ipython3",
   "version": "3.6.1"
  }
 },
 "nbformat": 4,
 "nbformat_minor": 2
}
